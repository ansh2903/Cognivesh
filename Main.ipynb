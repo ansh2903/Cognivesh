{
 "cells": [
  {
   "cell_type": "code",
   "execution_count": 37,
   "id": "0766a9c3-b71a-4019-a141-a83b09fb7511",
   "metadata": {},
   "outputs": [],
   "source": [
    "import urllib.parse\n",
    "import pandas as pd\n",
    "import requests\n",
    "import matplotlib.pyplot as plt\n",
    "import numpy as np"
   ]
  },
  {
   "cell_type": "code",
   "execution_count": 38,
   "id": "07a93b69-cb0a-4f96-aa9a-1899f7ab463e",
   "metadata": {},
   "outputs": [],
   "source": [
    "apikey = 'a7b466f7-292b-4e9f-8c3b-61ab810ec286'\n",
    "secretkey = '57hnxu2wxf'\n",
    "rurl = urllib.parse.quote('https://198.160.10.1', safe=\"\")"
   ]
  },
  {
   "cell_type": "code",
   "execution_count": 39,
   "id": "a233b240-937d-4feb-a09b-84b7cc96e9db",
   "metadata": {},
   "outputs": [
    {
     "data": {
      "text/plain": [
       "'https%3A%2F%2F198.160.10.1'"
      ]
     },
     "execution_count": 39,
     "metadata": {},
     "output_type": "execute_result"
    }
   ],
   "source": [
    "rurl"
   ]
  },
  {
   "cell_type": "code",
   "execution_count": 40,
   "id": "1f649bca-f7f0-4f70-a441-9b2dcd72d511",
   "metadata": {},
   "outputs": [
    {
     "data": {
      "text/plain": [
       "'https://api.upstox.com/v2/login/authorization/dialog?response_type=code&client_id=a7b466f7-292b-4e9f-8c3b-61ab810ec286&redirect_uri=https%3A%2F%2F198.160.10.1'"
      ]
     },
     "execution_count": 40,
     "metadata": {},
     "output_type": "execute_result"
    }
   ],
   "source": [
    "uri = f'https://api.upstox.com/v2/login/authorization/dialog?response_type=code&client_id={apikey}&redirect_uri={rurl}'\n",
    "uri"
   ]
  },
  {
   "cell_type": "code",
   "execution_count": 43,
   "id": "944d28a6-0ff7-4dde-9ff5-0aed60c32e58",
   "metadata": {},
   "outputs": [],
   "source": [
    "code = \"cvQkBL\""
   ]
  },
  {
   "cell_type": "code",
   "execution_count": 45,
   "id": "8fa503be-dd86-4ea8-b4a9-6fc86583db83",
   "metadata": {},
   "outputs": [
    {
     "data": {
      "text/plain": [
       "{'status': 'error',\n",
       " 'errors': [{'errorCode': 'UDAPI10000',\n",
       "   'message': 'This request is not supported by Upstox API',\n",
       "   'propertyPath': None,\n",
       "   'invalidValue': None,\n",
       "   'error_code': 'UDAPI10000',\n",
       "   'property_path': None,\n",
       "   'invalid_value': None}]}"
      ]
     },
     "execution_count": 45,
     "metadata": {},
     "output_type": "execute_result"
    }
   ],
   "source": [
    "url = 'https://api.upstox.com/v2/login/authorization/token'\n",
    "\n",
    "headers = {\n",
    "    'accept': 'application/json',\n",
    "    'Api-Version': '2.0',\n",
    "    'Content-Type': 'application/x-www-form-urlencoded'\n",
    "}\n",
    "\n",
    "data = {\n",
    "    'code': code,\n",
    "    'client_id': apikey,\n",
    "    'client_secret': secretkey,\n",
    "    'redirected_uri': 'https://198.160.10.1',\n",
    "    'grant_type': 'authorization_code'\n",
    "}\n",
    "\n",
    "response = requests.post(url, headers = headers, data = data)\n",
    "json_response = response.json()\n",
    "\n",
    "json_response"
   ]
  },
  {
   "cell_type": "code",
   "execution_count": null,
   "id": "29135268-d1fe-41f8-ba26-4432f672ce0e",
   "metadata": {},
   "outputs": [],
   "source": []
  }
 ],
 "metadata": {
  "kernelspec": {
   "display_name": "Python 3 (ipykernel)",
   "language": "python",
   "name": "python3"
  },
  "language_info": {
   "codemirror_mode": {
    "name": "ipython",
    "version": 3
   },
   "file_extension": ".py",
   "mimetype": "text/x-python",
   "name": "python",
   "nbconvert_exporter": "python",
   "pygments_lexer": "ipython3",
   "version": "3.10.6"
  }
 },
 "nbformat": 4,
 "nbformat_minor": 5
}
